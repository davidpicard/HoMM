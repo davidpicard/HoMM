{
 "cells": [
  {
   "cell_type": "code",
   "execution_count": 1,
   "metadata": {},
   "outputs": [
    {
     "name": "stderr",
     "output_type": "stream",
     "text": [
      "Seed set to 0\n"
     ]
    },
    {
     "name": "stdout",
     "output_type": "stream",
     "text": [
      "WARNING:tensorflow:From c:\\Users\\salat\\anaconda3\\envs\\homm\\Lib\\site-packages\\keras\\src\\losses.py:2976: The name tf.losses.sparse_softmax_cross_entropy is deprecated. Please use tf.compat.v1.losses.sparse_softmax_cross_entropy instead.\n",
      "\n"
     ]
    },
    {
     "name": "stderr",
     "output_type": "stream",
     "text": [
      "Seed set to 0\n"
     ]
    },
    {
     "data": {
      "text/plain": [
       "<module 'train_gnn' from 'g:\\\\My Drive\\\\HoMM_FOLDER\\\\HoMM\\\\src\\\\train_gnn.py'>"
      ]
     },
     "execution_count": 1,
     "metadata": {},
     "output_type": "execute_result"
    }
   ],
   "source": [
    "import importlib\n",
    "from model.network import gnn_layers as gnn_l\n",
    "from utils import gnn_utils as gnn_u\n",
    "import train_gnn as gnn_t\n",
    "\n",
    "importlib.reload(gnn_l)\n",
    "importlib.reload(gnn_u)\n",
    "importlib.reload(gnn_t)"
   ]
  },
  {
   "cell_type": "code",
   "execution_count": 2,
   "metadata": {},
   "outputs": [
    {
     "name": "stderr",
     "output_type": "stream",
     "text": [
      "c:\\Users\\salat\\anaconda3\\envs\\homm\\Lib\\site-packages\\scipy\\sparse\\_index.py:145: SparseEfficiencyWarning: Changing the sparsity structure of a csr_matrix is expensive. lil_matrix is more efficient.\n",
      "  self._set_arrayXarray(i, j, x)\n",
      "Seed set to 0\n"
     ]
    },
    {
     "name": "stdout",
     "output_type": "stream",
     "text": [
      "\n",
      "Final configuration----\n",
      "dataset_name = cora\n",
      "resuls folder = ../../Results/cora/GAT_HOMM/\n",
      "training_args=\n",
      "{   'device': 'cpu',\n",
      "    'masks': {   'test': tensor([False, False, False,  ...,  True,  True,  True]),\n",
      "                 'train': tensor([ True,  True,  True,  ..., False, False, False]),\n",
      "                 'val': tensor([False, False, False,  ..., False, False, False])},\n",
      "    'n_gpus': 1}\n",
      "hyperp_model=\n",
      "{'dropout': 0.0, 'ffw_expand': 2, 'n_layers': 2, 'order': 2, 'order_expand': 2}\n",
      "hyperp_training=\n",
      "{'learning_rate': 0.0001, 'n_epochs': 35, 'weight_decay': 0}\n"
     ]
    },
    {
     "name": "stderr",
     "output_type": "stream",
     "text": [
      "GPU available: True (cuda), used: False\n",
      "TPU available: False, using: 0 TPU cores\n",
      "IPU available: False, using: 0 IPUs\n",
      "HPU available: False, using: 0 HPUs\n",
      "c:\\Users\\salat\\anaconda3\\envs\\homm\\Lib\\site-packages\\pytorch_lightning\\trainer\\setup.py:187: GPU available but not used. You can set it by doing `Trainer(accelerator='gpu')`.\n",
      "Missing logger folder: ../../Results/cora/GAT_HOMM/2024-01-29__00-49-18\\lightning_logs\n",
      "\n",
      "  | Name        | Type             | Params\n",
      "-------------------------------------------------\n",
      "0 | model       | GAT_HOMM_Network | 65.8 M\n",
      "1 | loss_module | CrossEntropyLoss | 0     \n",
      "-------------------------------------------------\n",
      "65.8 M    Trainable params\n",
      "0         Non-trainable params\n",
      "65.8 M    Total params\n",
      "263.024   Total estimated model params size (MB)\n",
      "c:\\Users\\salat\\anaconda3\\envs\\homm\\Lib\\site-packages\\pytorch_lightning\\trainer\\connectors\\data_connector.py:441: The 'val_dataloader' does not have many workers which may be a bottleneck. Consider increasing the value of the `num_workers` argument` to `num_workers=7` in the `DataLoader` to improve performance.\n"
     ]
    },
    {
     "name": "stdout",
     "output_type": "stream",
     "text": [
      "v_acc=0.12800000607967377\n"
     ]
    },
    {
     "name": "stderr",
     "output_type": "stream",
     "text": [
      "c:\\Users\\salat\\anaconda3\\envs\\homm\\Lib\\site-packages\\pytorch_lightning\\trainer\\connectors\\data_connector.py:441: The 'train_dataloader' does not have many workers which may be a bottleneck. Consider increasing the value of the `num_workers` argument` to `num_workers=7` in the `DataLoader` to improve performance.\n",
      "c:\\Users\\salat\\anaconda3\\envs\\homm\\Lib\\site-packages\\pytorch_lightning\\loops\\fit_loop.py:293: The number of training batches (1) is smaller than the logging interval Trainer(log_every_n_steps=50). Set a lower value for log_every_n_steps if you want to see logs for the training epoch.\n",
      "Metric val_acc improved. New best score: 0.270\n"
     ]
    },
    {
     "name": "stdout",
     "output_type": "stream",
     "text": [
      "v_acc=0.27000001072883606\n"
     ]
    },
    {
     "name": "stderr",
     "output_type": "stream",
     "text": [
      "Metric val_acc improved by 0.172 >= min_delta = 0.0. New best score: 0.442\n"
     ]
    },
    {
     "name": "stdout",
     "output_type": "stream",
     "text": [
      "v_acc=0.44200000166893005\n"
     ]
    },
    {
     "name": "stderr",
     "output_type": "stream",
     "text": [
      "Metric val_acc improved by 0.110 >= min_delta = 0.0. New best score: 0.552\n"
     ]
    },
    {
     "name": "stdout",
     "output_type": "stream",
     "text": [
      "v_acc=0.5519999861717224\n"
     ]
    },
    {
     "name": "stderr",
     "output_type": "stream",
     "text": [
      "Metric val_acc improved by 0.058 >= min_delta = 0.0. New best score: 0.610\n"
     ]
    },
    {
     "name": "stdout",
     "output_type": "stream",
     "text": [
      "v_acc=0.6100000143051147\n"
     ]
    },
    {
     "name": "stderr",
     "output_type": "stream",
     "text": [
      "Metric val_acc improved by 0.036 >= min_delta = 0.0. New best score: 0.646\n"
     ]
    },
    {
     "name": "stdout",
     "output_type": "stream",
     "text": [
      "v_acc=0.6460000276565552\n"
     ]
    },
    {
     "name": "stderr",
     "output_type": "stream",
     "text": [
      "Metric val_acc improved by 0.016 >= min_delta = 0.0. New best score: 0.662\n"
     ]
    },
    {
     "name": "stdout",
     "output_type": "stream",
     "text": [
      "v_acc=0.6620000004768372\n"
     ]
    },
    {
     "name": "stderr",
     "output_type": "stream",
     "text": [
      "Metric val_acc improved by 0.014 >= min_delta = 0.0. New best score: 0.676\n"
     ]
    },
    {
     "name": "stdout",
     "output_type": "stream",
     "text": [
      "v_acc=0.6759999990463257\n"
     ]
    },
    {
     "name": "stderr",
     "output_type": "stream",
     "text": [
      "Metric val_acc improved by 0.024 >= min_delta = 0.0. New best score: 0.700\n"
     ]
    },
    {
     "name": "stdout",
     "output_type": "stream",
     "text": [
      "v_acc=0.699999988079071\n"
     ]
    },
    {
     "name": "stderr",
     "output_type": "stream",
     "text": [
      "Metric val_acc improved by 0.016 >= min_delta = 0.0. New best score: 0.716\n"
     ]
    },
    {
     "name": "stdout",
     "output_type": "stream",
     "text": [
      "v_acc=0.7160000205039978\n"
     ]
    },
    {
     "name": "stderr",
     "output_type": "stream",
     "text": [
      "Metric val_acc improved by 0.010 >= min_delta = 0.0. New best score: 0.726\n"
     ]
    },
    {
     "name": "stdout",
     "output_type": "stream",
     "text": [
      "v_acc=0.7260000109672546\n"
     ]
    },
    {
     "name": "stderr",
     "output_type": "stream",
     "text": [
      "Metric val_acc improved by 0.008 >= min_delta = 0.0. New best score: 0.734\n"
     ]
    },
    {
     "name": "stdout",
     "output_type": "stream",
     "text": [
      "v_acc=0.734000027179718\n"
     ]
    },
    {
     "name": "stderr",
     "output_type": "stream",
     "text": [
      "Metric val_acc improved by 0.004 >= min_delta = 0.0. New best score: 0.738\n"
     ]
    },
    {
     "name": "stdout",
     "output_type": "stream",
     "text": [
      "v_acc=0.7379999756813049\n"
     ]
    },
    {
     "name": "stderr",
     "output_type": "stream",
     "text": [
      "Metric val_acc improved by 0.014 >= min_delta = 0.0. New best score: 0.752\n"
     ]
    },
    {
     "name": "stdout",
     "output_type": "stream",
     "text": [
      "v_acc=0.7519999742507935\n",
      "v_acc=0.7480000257492065\n",
      "v_acc=0.7480000257492065\n",
      "v_acc=0.7519999742507935\n",
      "v_acc=0.75\n"
     ]
    },
    {
     "name": "stderr",
     "output_type": "stream",
     "text": [
      "Metric val_acc improved by 0.002 >= min_delta = 0.0. New best score: 0.754\n"
     ]
    },
    {
     "name": "stdout",
     "output_type": "stream",
     "text": [
      "v_acc=0.7540000081062317\n",
      "v_acc=0.7519999742507935\n",
      "v_acc=0.7540000081062317\n"
     ]
    },
    {
     "name": "stderr",
     "output_type": "stream",
     "text": [
      "Metric val_acc improved by 0.004 >= min_delta = 0.0. New best score: 0.758\n"
     ]
    },
    {
     "name": "stdout",
     "output_type": "stream",
     "text": [
      "v_acc=0.7580000162124634\n"
     ]
    },
    {
     "name": "stderr",
     "output_type": "stream",
     "text": [
      "Metric val_acc improved by 0.010 >= min_delta = 0.0. New best score: 0.768\n"
     ]
    },
    {
     "name": "stdout",
     "output_type": "stream",
     "text": [
      "v_acc=0.7680000066757202\n",
      "v_acc=0.765999972820282\n",
      "v_acc=0.765999972820282\n",
      "v_acc=0.7639999985694885\n",
      "v_acc=0.7680000066757202\n",
      "v_acc=0.765999972820282\n"
     ]
    },
    {
     "name": "stderr",
     "output_type": "stream",
     "text": [
      "Metric val_acc improved by 0.002 >= min_delta = 0.0. New best score: 0.770\n"
     ]
    },
    {
     "name": "stdout",
     "output_type": "stream",
     "text": [
      "v_acc=0.7699999809265137\n",
      "v_acc=0.7699999809265137\n"
     ]
    },
    {
     "name": "stderr",
     "output_type": "stream",
     "text": [
      "Metric val_acc improved by 0.002 >= min_delta = 0.0. New best score: 0.772\n"
     ]
    },
    {
     "name": "stdout",
     "output_type": "stream",
     "text": [
      "v_acc=0.7720000147819519\n"
     ]
    },
    {
     "name": "stderr",
     "output_type": "stream",
     "text": [
      "Metric val_acc improved by 0.002 >= min_delta = 0.0. New best score: 0.774\n"
     ]
    },
    {
     "name": "stdout",
     "output_type": "stream",
     "text": [
      "v_acc=0.7739999890327454\n"
     ]
    },
    {
     "name": "stderr",
     "output_type": "stream",
     "text": [
      "Metric val_acc improved by 0.002 >= min_delta = 0.0. New best score: 0.776\n"
     ]
    },
    {
     "name": "stdout",
     "output_type": "stream",
     "text": [
      "v_acc=0.7760000228881836\n",
      "v_acc=0.7760000228881836\n",
      "v_acc=0.7720000147819519\n"
     ]
    },
    {
     "name": "stderr",
     "output_type": "stream",
     "text": [
      "`Trainer.fit` stopped: `max_epochs=35` reached.\n"
     ]
    },
    {
     "name": "stdout",
     "output_type": "stream",
     "text": [
      "v_acc=0.7699999809265137\n",
      "=== Best model (epoch=31-val_acc=0.776.ckpt) performance ===\n",
      "train-accuracy = 1.0\n",
      "val-accuracy = 0.7760000228881836\n",
      "test-accuracy = 0.8050000071525574\n"
     ]
    },
    {
     "data": {
      "text/plain": [
       "({'train': tensor(1.), 'val': tensor(0.7760), 'test': tensor(0.8050)},\n",
       " '../../Results/cora/GAT_HOMM/2024-01-29__00-49-18')"
      ]
     },
     "execution_count": 2,
     "metadata": {},
     "output_type": "execute_result"
    }
   ],
   "source": [
    "# Train and evaluate GAT-HoMM using the configuration\n",
    "# specified in train_gnn.yml\n",
    "# The configuration can be overwritten by passing\n",
    "# gnn_train_and_eval() configuration dictionaries\n",
    "# Configuration dictionaries: training_args, hyperp_model, hyperp_training\n",
    "gnn_t.gnn_train_and_eval(\n",
    "    dataset_name=\"cora\",\n",
    "    training_args={\"device\": \"cpu\"},\n",
    "    hyperp_training={\"n_epochs\": 35},\n",
    "    hyperp_model={\n",
    "        \"dropout\": 0.0,\n",
    "        \"n_layers\": 2,\n",
    "        \"order\": 2,\n",
    "        \"order_expand\": 2,\n",
    "        \"ffw_expand\": 2,\n",
    "    },\n",
    "    res_root_dir=\"../../Results/\",\n",
    "    def_config=\"./configs/train_gnn.yml\",\n",
    ")"
   ]
  },
  {
   "cell_type": "code",
   "execution_count": 110,
   "metadata": {},
   "outputs": [
    {
     "name": "stdout",
     "output_type": "stream",
     "text": [
      "1706484238\n",
      "Initialization with hyperparameters:\n",
      " --dropout 0.269625191242228 --ffw_expand 4 --learning_rate 0.0004858226819615567 --n_epochs 1 --n_layers 1 --order 3 --order_expand 8 --weight_decay 0.09526996126624869"
     ]
    },
    {
     "name": "stderr",
     "output_type": "stream",
     "text": [
      "c:\\Users\\salat\\anaconda3\\envs\\homm\\Lib\\site-packages\\scipy\\sparse\\_index.py:145: SparseEfficiencyWarning: Changing the sparsity structure of a csr_matrix is expensive. lil_matrix is more efficient.\n",
      "  self._set_arrayXarray(i, j, x)\n",
      "Seed set to 0\n",
      "GPU available: True (cuda), used: False\n",
      "TPU available: False, using: 0 TPU cores\n",
      "IPU available: False, using: 0 IPUs\n",
      "HPU available: False, using: 0 HPUs\n",
      "c:\\Users\\salat\\anaconda3\\envs\\homm\\Lib\\site-packages\\pytorch_lightning\\trainer\\setup.py:187: GPU available but not used. You can set it by doing `Trainer(accelerator='gpu')`.\n"
     ]
    },
    {
     "name": "stdout",
     "output_type": "stream",
     "text": [
      "\n",
      "Final configuration----\n",
      "dataset_name = cora\n",
      "resuls folder = ../../Results/cora/GAT_HOMM/\n",
      "training_args=\n",
      "{   'device': 'cpu',\n",
      "    'masks': {   'test': tensor([False, False, False,  ...,  True,  True,  True]),\n",
      "                 'train': tensor([ True,  True,  True,  ..., False, False, False]),\n",
      "                 'val': tensor([False, False, False,  ..., False, False, False])},\n",
      "    'n_gpus': 1}\n",
      "hyperp_model=\n",
      "{   'dropout': 0.269625191242228,\n",
      "    'ffw_expand': 4,\n",
      "    'n_layers': 1,\n",
      "    'order': 3,\n",
      "    'order_expand': 8}\n",
      "hyperp_training=\n",
      "{   'learning_rate': 0.0004858226819615567,\n",
      "    'n_epochs': 1,\n",
      "    'weight_decay': 0.09526996126624869}\n"
     ]
    },
    {
     "name": "stderr",
     "output_type": "stream",
     "text": [
      "Missing logger folder: ../../Results/cora/GAT_HOMM/2024-01-29__00-23-59\\lightning_logs\n",
      "\n",
      "  | Name        | Type             | Params\n",
      "-------------------------------------------------\n",
      "0 | model       | GAT_HOMM_Network | 164 M \n",
      "1 | loss_module | CrossEntropyLoss | 0     \n",
      "-------------------------------------------------\n",
      "164 M     Trainable params\n",
      "0         Non-trainable params\n",
      "164 M     Total params\n",
      "657.466   Total estimated model params size (MB)\n",
      "c:\\Users\\salat\\anaconda3\\envs\\homm\\Lib\\site-packages\\pytorch_lightning\\trainer\\connectors\\data_connector.py:441: The 'val_dataloader' does not have many workers which may be a bottleneck. Consider increasing the value of the `num_workers` argument` to `num_workers=7` in the `DataLoader` to improve performance.\n"
     ]
    },
    {
     "name": "stdout",
     "output_type": "stream",
     "text": [
      "v_acc=0.14000000059604645\n"
     ]
    },
    {
     "name": "stderr",
     "output_type": "stream",
     "text": [
      "c:\\Users\\salat\\anaconda3\\envs\\homm\\Lib\\site-packages\\pytorch_lightning\\trainer\\connectors\\data_connector.py:441: The 'train_dataloader' does not have many workers which may be a bottleneck. Consider increasing the value of the `num_workers` argument` to `num_workers=7` in the `DataLoader` to improve performance.\n",
      "c:\\Users\\salat\\anaconda3\\envs\\homm\\Lib\\site-packages\\pytorch_lightning\\loops\\fit_loop.py:293: The number of training batches (1) is smaller than the logging interval Trainer(log_every_n_steps=50). Set a lower value for log_every_n_steps if you want to see logs for the training epoch.\n",
      "Metric val_acc improved. New best score: 0.226\n"
     ]
    },
    {
     "name": "stdout",
     "output_type": "stream",
     "text": [
      "v_acc=0.22599999606609344\n"
     ]
    },
    {
     "name": "stderr",
     "output_type": "stream",
     "text": [
      "`Trainer.fit` stopped: `max_epochs=1` reached.\n"
     ]
    },
    {
     "name": "stdout",
     "output_type": "stream",
     "text": [
      "=== Best model (epoch=0-val_acc=0.226.ckpt) performance ===\n",
      "train-accuracy = 0.30714285373687744\n",
      "val-accuracy = 0.2199999988079071\n",
      "test-accuracy = 0.25\n",
      "Initialization with hyperparameters:\n",
      " --dropout 0.28773201155373757 --ffw_expand 4 --learning_rate 0.0007673787563274673 --n_epochs 1 --n_layers 1 --order 2 --order_expand 4 --weight_decay 0.24587756725017526"
     ]
    },
    {
     "name": "stderr",
     "output_type": "stream",
     "text": [
      "Seed set to 0\n",
      "GPU available: True (cuda), used: False\n",
      "TPU available: False, using: 0 TPU cores\n",
      "IPU available: False, using: 0 IPUs\n",
      "HPU available: False, using: 0 HPUs\n"
     ]
    },
    {
     "name": "stdout",
     "output_type": "stream",
     "text": [
      "\n",
      "Final configuration----\n",
      "dataset_name = cora\n",
      "resuls folder = ../../Results/cora/GAT_HOMM/\n",
      "training_args=\n",
      "{   'device': 'cpu',\n",
      "    'masks': {   'test': tensor([False, False, False,  ...,  True,  True,  True]),\n",
      "                 'train': tensor([ True,  True,  True,  ..., False, False, False]),\n",
      "                 'val': tensor([False, False, False,  ..., False, False, False])},\n",
      "    'n_gpus': 1}\n",
      "hyperp_model=\n",
      "{   'dropout': 0.28773201155373757,\n",
      "    'ffw_expand': 4,\n",
      "    'n_layers': 1,\n",
      "    'order': 2,\n",
      "    'order_expand': 4}\n",
      "hyperp_training=\n",
      "{   'learning_rate': 0.0007673787563274673,\n",
      "    'n_epochs': 1,\n",
      "    'weight_decay': 0.24587756725017526}\n"
     ]
    },
    {
     "name": "stderr",
     "output_type": "stream",
     "text": [
      "Missing logger folder: ../../Results/cora/GAT_HOMM/2024-01-29__00-24-50\\lightning_logs\n",
      "\n",
      "  | Name        | Type             | Params\n",
      "-------------------------------------------------\n",
      "0 | model       | GAT_HOMM_Network | 65.8 M\n",
      "1 | loss_module | CrossEntropyLoss | 0     \n",
      "-------------------------------------------------\n",
      "65.8 M    Trainable params\n",
      "0         Non-trainable params\n",
      "65.8 M    Total params\n",
      "263.013   Total estimated model params size (MB)\n"
     ]
    },
    {
     "name": "stdout",
     "output_type": "stream",
     "text": [
      "v_acc=0.1459999978542328\n"
     ]
    },
    {
     "name": "stderr",
     "output_type": "stream",
     "text": [
      "Metric val_acc improved. New best score: 0.176\n"
     ]
    },
    {
     "name": "stdout",
     "output_type": "stream",
     "text": [
      "v_acc=0.17599999904632568\n"
     ]
    },
    {
     "name": "stderr",
     "output_type": "stream",
     "text": [
      "`Trainer.fit` stopped: `max_epochs=1` reached.\n"
     ]
    },
    {
     "name": "stdout",
     "output_type": "stream",
     "text": [
      "=== Best model (epoch=0-val_acc=0.176.ckpt) performance ===\n",
      "train-accuracy = 0.2571428716182709\n",
      "val-accuracy = 0.17599999904632568\n",
      "test-accuracy = 0.17000000178813934\n"
     ]
    },
    {
     "name": "stderr",
     "output_type": "stream",
     "text": [
      "<string>:1: FutureWarning: DataFrame.applymap has been deprecated. Use DataFrame.map instead.\n",
      "<string>:1: FutureWarning: DataFrame.applymap has been deprecated. Use DataFrame.map instead.\n"
     ]
    }
   ],
   "source": [
    "import optimize_hps_gnn as opt\n",
    "\n",
    "importlib.reload(opt)\n",
    "opt.optimize_hps(\n",
    "    hp_config_file=\"./configs/hp_opt_gnn.yml\",\n",
    "    train_config_file=\"./configs/train_gnn.yml\",\n",
    "    res_root_dir=\"../../Results/\",\n",
    "    n_samples=2,\n",
    "    device=\"cpu\",\n",
    ")"
   ]
  },
  {
   "cell_type": "code",
   "execution_count": null,
   "metadata": {},
   "outputs": [],
   "source": []
  }
 ],
 "metadata": {
  "kernelspec": {
   "display_name": "homm",
   "language": "python",
   "name": "python3"
  },
  "language_info": {
   "codemirror_mode": {
    "name": "ipython",
    "version": 3
   },
   "file_extension": ".py",
   "mimetype": "text/x-python",
   "name": "python",
   "nbconvert_exporter": "python",
   "pygments_lexer": "ipython3",
   "version": "3.11.4"
  }
 },
 "nbformat": 4,
 "nbformat_minor": 2
}
